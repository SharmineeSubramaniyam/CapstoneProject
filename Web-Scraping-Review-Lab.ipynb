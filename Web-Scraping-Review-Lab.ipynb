{
 "cells": [
  {
   "cell_type": "markdown",
   "metadata": {},
   "source": [
    "<p style=\"text-align:center\">\n",
    "    <a href=\"https://skills.network/?utm_medium=Exinfluencer&utm_source=Exinfluencer&utm_content=000026UJ&utm_term=10006555&utm_id=NA-SkillsNetwork-Channel-SkillsNetworkCoursesIBMDA0321ENSkillsNetwork21426264-2022-01-01\" target=\"_blank\">\n",
    "    <img src=\"https://cf-courses-data.s3.us.cloud-object-storage.appdomain.cloud/assets/logos/SN_web_lightmode.png\" width=\"200\" alt=\"Skills Network Logo\"  />\n",
    "    </a>\n",
    "</p>\n"
   ]
  },
  {
   "cell_type": "markdown",
   "metadata": {},
   "source": [
    "# **Web Scraping Lab**\n"
   ]
  },
  {
   "cell_type": "markdown",
   "metadata": {},
   "source": [
    "Estimated time needed: **30** minutes\n"
   ]
  },
  {
   "cell_type": "markdown",
   "metadata": {},
   "source": [
    "## Objectives\n"
   ]
  },
  {
   "cell_type": "markdown",
   "metadata": {},
   "source": [
    "After completing this lab you will be able to:\n"
   ]
  },
  {
   "cell_type": "markdown",
   "metadata": {},
   "source": [
    "*   Download a webpage using requests module\n",
    "*   Scrape all links from a web page\n",
    "*   Scrape all image urls from a web page\n",
    "*   Scrape data from html tables\n"
   ]
  },
  {
   "cell_type": "markdown",
   "metadata": {},
   "source": [
    "## Scrape [www.ibm.com](http://www.ibm.com/?utm_medium=Exinfluencer&utm_source=Exinfluencer&utm_content=000026UJ&utm_term=10006555&utm_id=NA-SkillsNetwork-Channel-SkillsNetworkCoursesIBMDA0321ENSkillsNetwork21426264-2022-01-01)\n"
   ]
  },
  {
   "cell_type": "markdown",
   "metadata": {},
   "source": [
    "Import the required modules and functions\n"
   ]
  },
  {
   "cell_type": "code",
   "execution_count": 1,
   "metadata": {},
   "outputs": [],
   "source": [
    "from bs4 import BeautifulSoup # this module helps in web scrapping.\n",
    "import requests  # this module helps us to download a web page"
   ]
  },
  {
   "cell_type": "markdown",
   "metadata": {},
   "source": [
    "Download the contents of the web page\n"
   ]
  },
  {
   "cell_type": "code",
   "execution_count": 2,
   "metadata": {},
   "outputs": [],
   "source": [
    "url = \"http://www.ibm.com\""
   ]
  },
  {
   "cell_type": "code",
   "execution_count": 3,
   "metadata": {},
   "outputs": [],
   "source": [
    "# get the contents of the webpage in text format and store in a variable called data\n",
    "data  = requests.get(url).text "
   ]
  },
  {
   "cell_type": "markdown",
   "metadata": {},
   "source": [
    "Create a soup object using the class BeautifulSoup\n"
   ]
  },
  {
   "cell_type": "code",
   "execution_count": 4,
   "metadata": {},
   "outputs": [],
   "source": [
    "soup = BeautifulSoup(data,\"html5lib\")  # create a soup object using the variable 'data'"
   ]
  },
  {
   "cell_type": "markdown",
   "metadata": {},
   "source": [
    "Scrape all links\n"
   ]
  },
  {
   "cell_type": "code",
   "execution_count": 5,
   "metadata": {},
   "outputs": [
    {
     "name": "stdout",
     "output_type": "stream",
     "text": [
      "https://www.ibm.com/sg-en/cloud/campaign/cloud-simplicity\n",
      "https://newsroom.ibm.com/2022-09-14-IBM-Announced-as-COP-27-Technology-Partner\n",
      "https://www.ibm.com/sg-en/automation\n",
      "https://www.ibm.com/sg-en/products/business-analytics-enterprise\n",
      "https://www.ibm.com/consulting/sg-en/\n",
      "https://www.ibm.com/sg-en/analytics/data-fabric/\n",
      "https://www.ibm.com/sg-en/about/secure-your-business\n",
      "https://www.ibm.com/sports/usopen\n",
      "https://www.ibm.com/lets-create/new-creators/sg-en/\n",
      "https://www.ibm.com/resources/the-data-differentiator/\n",
      "https://www.ibm.com/it-infrastructure/us-en/resources/hybrid-multicloud-infrastructure-strategy?lnk=sghpv18f3\n",
      "https://www.ibm.com/security/data-breach/threat-intelligence\n",
      "/sg-en/products/offers-and-discounts?lnk=hpv18t5\n",
      "/sg-en/cloud/free?lnk=STW_SG_HP_T1_BLK&psrc=NONE&pexp=DEF&lnk2=trial_Cloud\n",
      "https://www.ibm.com/sg-en/security/security-intelligence/qradar?lnk=hpv18t2&psrc=NONE&lnk2=trial_Qradar&pexp=DEF\n",
      "/sg-en/products/cloud-pak-for-data?lnk=STW_SG_HP_SWT2_TL&psrc=NONE&pexp=DEF&lnk2=trial_CloudPakData\n",
      "https://www.ibm.com/products/unified-endpoint-management\n",
      "/sg-en/cloud/watson-assistant?lnk=STW_SG_HP_T3_BLK&psrc=NONE&pexp=DEF&lnk2=trial_WatAssist\n",
      "https://www.ibm.com/sg-en/storage/flash?lnk=STW_SG_HP_SWT5_BLK&psrc=NONE&pexp=DEF&lnk2=trial_DigLearning\n",
      "https://www.ibm.com/account/reg/sg-en/signup?formid=urx-45706\n",
      "https://www.ibm.com/sg-en/cloud/free?lnk=hpv18nf\n",
      "https://developer.ibm.com/depmodels/cloud/?lnk=hpv18ct16\n",
      "https://developer.ibm.com/technologies/artificial-intelligence?lnk=hpv18ct19\n",
      "https://developer.ibm.com/?lnk=hpv18ct9\n",
      "https://www.ibm.com/docs/en?lnk=hpv18ct14\n",
      "https://www.redbooks.ibm.com/?lnk=ushpv18ct10\n",
      "https://www.ibm.com/support/home/?lnk=hpv18ct11\n",
      "https://www.ibm.com/training/?lnk=hpv18ct15\n",
      "https://www.ibm.com/sg-en/consulting?lnk=hpv18pb1\n",
      "https://www.ibm.com/sg-en/cloud/hybrid?lnk=hpv18pt14\n",
      "/cloud/learn/public-cloud?lnk=hpv18ct1\n",
      "https://www.ibm.com/sg-en/watson?lnk=sghpv18pt17\n",
      "https://www.ibm.com/sg-en/garage?lnk=hpv18pt13\n",
      "https://www.ibm.com/sg-en/storage?lnk=hpv18pt4\n",
      "https://www.ibm.com/thought-leadership/institute-business-value/?lnk=hpv18pt12\n",
      "https://www.ibm.com/sg-en/analytics?lnk=hpv18pt1\n",
      "https://www.ibm.com/sg-en/security?lnk=hpv18pt9\n",
      "https://www.ibm.com/sg-en/financing?lnk=hpv18pt3\n",
      "https://www.ibm.com/quantum-computing?lnk=hpv18pt16\n",
      "https://www.ibm.com/sg-en/cloud/hybrid?lnk=hpv18ct20\n",
      "https://www.ibm.com/sg-en/security/zero-trust?lnk=hpv18pt4\n",
      "/cloud/learn/public-cloud?lnk=hpv18ct1\n",
      "https://www.ibm.com/sg-en/cloud/redhat?lnk=hpv18ct13\n",
      "https://www.ibm.com/sg-en/watson?lnk=hpv18ct3\n",
      "https://www.ibm.com/quantum-computing?lnk=hpv18ct18\n",
      "https://www.ibm.com/sg-en/cloud/learn/kubernetes?lnk=hpv18ct8\n",
      "https://www.ibm.com/sg-en/products/spss-statistics?lnk=ushpv18ct7\n",
      "https://www.ibm.com/sg-en/blockchain?lnk=hpv18ct1\n",
      "https://www.ibm.com/employment?lnk=hpv18ct2\n",
      "https://www.ibm.com/case-studies/tetherfi/?lnk=sghpv18cs1\n",
      "https://www.ibm.com/case-studies/search?lnk=hpv18cs2\n",
      "#\n"
     ]
    }
   ],
   "source": [
    "for link in soup.find_all('a'):  # in html anchor/link is represented by the tag <a>\n",
    "    print(link.get('href'))"
   ]
  },
  {
   "cell_type": "markdown",
   "metadata": {},
   "source": [
    "Scrape  all images\n"
   ]
  },
  {
   "cell_type": "code",
   "execution_count": 6,
   "metadata": {},
   "outputs": [
    {
     "name": "stdout",
     "output_type": "stream",
     "text": [
      "//1.cms.s81c.com/sites/default/files/2022-06-01/AIOPS.JPG\n",
      "//1.cms.s81c.com/sites/default/files/2022-11-11/20221017-business-analytics-enterprise-800x450.jpg\n",
      "//1.cms.s81c.com/sites/default/files/2022-08-03/Consulting_0.jpg\n",
      "//1.cms.s81c.com/sites/default/files/2022-04-25/2022031-ls-data-driven-mobile-720x360%20%283%29.png\n",
      "//1.cms.s81c.com/sites/default/files/2022-06-01/Secure.jpg\n",
      "//1.cms.s81c.com/sites/default/files/2022-09-14/US_Open_2022-card-watson.jpg\n",
      "//1.cms.s81c.com/sites/default/files/2022-09-15/Temp-444x254.png\n",
      "//1.cms.s81c.com/sites/default/files/2022-07-04/20220620-26721%20digital-data-guide-differentiator-444x333_1.jpg\n",
      "//1.cms.s81c.com/sites/default/files/2022-04-27/Original-20220316-26479-Forrester-Modernize-444x320%20%281%29.jpg\n",
      "//1.cms.s81c.com/sites/default/files/2022-04-27/02baae8d-eb04-4ae7-8cab02853f251e43.jpg\n",
      "//1.cms.s81c.com/sites/default/files/2021-04-07/ibm-cloud-trial.png\n",
      "//1.cms.s81c.com/sites/default/files/2021-11-02/QRadar-on-Cloud-21400-700x420%20%281%29.png\n",
      "//1.cms.s81c.com/sites/default/files/2021-04-07/cloud-pak-for-data-trial.png\n",
      "//1.cms.s81c.com/sites/default/files/2021-11-01/10072019-t-bt-MaaS360-watson-23210-700x420_0.png\n",
      "//1.cms.s81c.com/sites/default/files/2021-04-07/watson-assistant-trial_0.png\n",
      "//1.cms.s81c.com/sites/default/files/2022-06-24/Flash-System-5000-trial-444x266.jpg\n",
      "//1.cms.s81c.com/sites/default/files/2021-11-22/cloud-pak-for-automation-trial-444x254-v2_1.png\n"
     ]
    }
   ],
   "source": [
    "for link in soup.find_all('img'):# in html image is represented by the tag <img>\n",
    "    print(link.get('src'))"
   ]
  },
  {
   "cell_type": "markdown",
   "metadata": {},
   "source": [
    "## Scrape data from html tables\n"
   ]
  },
  {
   "cell_type": "code",
   "execution_count": 7,
   "metadata": {},
   "outputs": [],
   "source": [
    "#The below url contains a html table with data about colors and color codes."
   ]
  },
  {
   "cell_type": "code",
   "execution_count": 8,
   "metadata": {},
   "outputs": [],
   "source": [
    "url = \"https://cf-courses-data.s3.us.cloud-object-storage.appdomain.cloud/IBM-DA0321EN-SkillsNetwork/labs/datasets/HTMLColorCodes.html\""
   ]
  },
  {
   "cell_type": "markdown",
   "metadata": {},
   "source": [
    "Before proceeding to scrape a web site, you need to examine the contents, and the way data is organized on the website. Open the above url in your browser and check how many rows and columns are there in the color table.\n"
   ]
  },
  {
   "cell_type": "code",
   "execution_count": 9,
   "metadata": {},
   "outputs": [],
   "source": [
    "# get the contents of the webpage in text format and store in a variable called data\n",
    "data  = requests.get(url).text"
   ]
  },
  {
   "cell_type": "code",
   "execution_count": 10,
   "metadata": {},
   "outputs": [],
   "source": [
    "soup = BeautifulSoup(data,\"html5lib\")"
   ]
  },
  {
   "cell_type": "code",
   "execution_count": 11,
   "metadata": {},
   "outputs": [],
   "source": [
    "#find a html table in the web page\n",
    "table = soup.find('table') # in html table is represented by the tag <table>"
   ]
  },
  {
   "cell_type": "code",
   "execution_count": 12,
   "metadata": {},
   "outputs": [
    {
     "name": "stdout",
     "output_type": "stream",
     "text": [
      "Color Name--->Hex Code#RRGGBB\n",
      "lightsalmon--->#FFA07A\n",
      "salmon--->#FA8072\n",
      "darksalmon--->#E9967A\n",
      "lightcoral--->#F08080\n",
      "coral--->#FF7F50\n",
      "tomato--->#FF6347\n",
      "orangered--->#FF4500\n",
      "gold--->#FFD700\n",
      "orange--->#FFA500\n",
      "darkorange--->#FF8C00\n",
      "lightyellow--->#FFFFE0\n",
      "lemonchiffon--->#FFFACD\n",
      "papayawhip--->#FFEFD5\n",
      "moccasin--->#FFE4B5\n",
      "peachpuff--->#FFDAB9\n",
      "palegoldenrod--->#EEE8AA\n",
      "khaki--->#F0E68C\n",
      "darkkhaki--->#BDB76B\n",
      "yellow--->#FFFF00\n",
      "lawngreen--->#7CFC00\n",
      "chartreuse--->#7FFF00\n",
      "limegreen--->#32CD32\n",
      "lime--->#00FF00\n",
      "forestgreen--->#228B22\n",
      "green--->#008000\n",
      "powderblue--->#B0E0E6\n",
      "lightblue--->#ADD8E6\n",
      "lightskyblue--->#87CEFA\n",
      "skyblue--->#87CEEB\n",
      "deepskyblue--->#00BFFF\n",
      "lightsteelblue--->#B0C4DE\n",
      "dodgerblue--->#1E90FF\n"
     ]
    }
   ],
   "source": [
    "#Get all rows from the table\n",
    "for row in table.find_all('tr'): # in html table row is represented by the tag <tr>\n",
    "    # Get all columns in each row.\n",
    "    cols = row.find_all('td') # in html a column is represented by the tag <td>\n",
    "    color_name = cols[2].getText() # store the value in column 3 as color_name\n",
    "    color_code = cols[3].getText() # store the value in column 4 as color_code\n",
    "    print(\"{}--->{}\".format(color_name,color_code))"
   ]
  },
  {
   "cell_type": "markdown",
   "metadata": {},
   "source": [
    "## Authors\n"
   ]
  },
  {
   "cell_type": "markdown",
   "metadata": {},
   "source": [
    "Ramesh Sannareddy\n"
   ]
  },
  {
   "cell_type": "markdown",
   "metadata": {},
   "source": [
    "### Other Contributors\n"
   ]
  },
  {
   "cell_type": "markdown",
   "metadata": {},
   "source": [
    "Rav Ahuja\n"
   ]
  },
  {
   "cell_type": "markdown",
   "metadata": {},
   "source": [
    "## Change Log\n"
   ]
  },
  {
   "cell_type": "markdown",
   "metadata": {},
   "source": [
    "| Date (YYYY-MM-DD) | Version | Changed By        | Change Description                 |\n",
    "| ----------------- | ------- | ----------------- | ---------------------------------- |\n",
    "| 2020-10-17        | 0.1     | Ramesh Sannareddy | Created initial version of the lab |\n"
   ]
  },
  {
   "cell_type": "markdown",
   "metadata": {},
   "source": [
    "Copyright © 2020 IBM Corporation. This notebook and its source code are released under the terms of the [MIT License](https://cognitiveclass.ai/mit-license/?utm_medium=Exinfluencer&utm_source=Exinfluencer&utm_content=000026UJ&utm_term=10006555&utm_id=NA-SkillsNetwork-Channel-SkillsNetworkCoursesIBMDA0321ENSkillsNetwork21426264-2022-01-01).\n"
   ]
  }
 ],
 "metadata": {
  "kernelspec": {
   "display_name": "Python 3",
   "language": "python",
   "name": "python3"
  },
  "language_info": {
   "codemirror_mode": {
    "name": "ipython",
    "version": 3
   },
   "file_extension": ".py",
   "mimetype": "text/x-python",
   "name": "python",
   "nbconvert_exporter": "python",
   "pygments_lexer": "ipython3",
   "version": "3.8.8"
  }
 },
 "nbformat": 4,
 "nbformat_minor": 4
}
